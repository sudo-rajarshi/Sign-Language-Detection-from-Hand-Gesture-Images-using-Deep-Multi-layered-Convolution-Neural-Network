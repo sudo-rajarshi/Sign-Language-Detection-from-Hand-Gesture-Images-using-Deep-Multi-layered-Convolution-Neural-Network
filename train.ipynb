{
 "cells": [
  {
   "cell_type": "code",
   "execution_count": 1,
   "metadata": {},
   "outputs": [],
   "source": [
    "import os\n",
    "import cv2\n",
    "import random\n",
    "import shutil\n",
    "import time\n",
    "import matplotlib\n",
    "import glob\n",
    "import operator\n",
    "import psutil\n",
    "import numpy as np\n",
    "import math\n",
    "import matplotlib.pyplot as plt\n",
    "import tensorflow as tf\n",
    "from tensorflow import keras\n",
    "from tensorflow.keras.models import Sequential\n",
    "from tensorflow.keras.layers import Dense, Activation\n",
    "from tensorflow.keras.preprocessing.image import ImageDataGenerator\n",
    "from tensorflow.keras.optimizers import Adam\n",
    "from tensorflow.keras.preprocessing import image\n",
    "from tensorflow.keras.models import Model\n",
    "from tensorflow.keras.models import load_model\n",
    "from tensorflow.keras.layers import Dense, Dropout, GlobalAveragePooling2D, GlobalMaxPooling2D, BatchNormalization, Conv2D, MaxPooling2D, Flatten\n",
    "from shutil import copyfile\n",
    "import pandas as pd\n",
    "import PIL\n",
    "from mlxtend.plotting import plot_confusion_matrix"
   ]
  },
  {
   "cell_type": "code",
   "execution_count": 2,
   "metadata": {},
   "outputs": [],
   "source": [
    "physical_devices = tf.config.experimental.list_physical_devices('GPU')\n",
    "tf.config.experimental.set_memory_growth(physical_devices[0], True)"
   ]
  },
  {
   "cell_type": "code",
   "execution_count": 3,
   "metadata": {},
   "outputs": [],
   "source": [
    "TRAINING_DIR = '/home/rajarshi/Documents/DATASETS/Others/ISL/FINAL/PROCESSING/processed_all/training'\n",
    "VALIDATION_DIR = '/home/rajarshi/Documents/DATASETS/Others/ISL/FINAL/PROCESSING/processed_all/validation'\n",
    "TESTING_DIR = '/home/rajarshi/Documents/DATASETS/Others/ISL/FINAL/PROCESSING/processed_all/testing' "
   ]
  },
  {
   "cell_type": "code",
   "execution_count": 4,
   "metadata": {},
   "outputs": [],
   "source": [
    "datagen = ImageDataGenerator(\n",
    "        rescale=1. / 255,\n",
    "        rotation_range=20,\n",
    "        width_shift_range=0.2,\n",
    "        zoom_range=0.2,\n",
    "        horizontal_flip=True,\n",
    "        fill_mode='nearest')"
   ]
  },
  {
   "cell_type": "code",
   "execution_count": 5,
   "metadata": {},
   "outputs": [],
   "source": [
    "learning_rate = 0.001\n",
    "epoch = 100\n",
    "batch_size = 64"
   ]
  },
  {
   "cell_type": "code",
   "execution_count": 6,
   "metadata": {},
   "outputs": [],
   "source": [
    "char_name = 'CUSTOM_64'\n",
    "\n",
    "char = os.path.join('/home/rajarshi/Documents/DATASETS/Others/ISL/FINAL', char_name)\n",
    "\n",
    "if not os.path.exists(char):\n",
    "    os.mkdir(char)\n",
    "else:\n",
    "    shutil.rmtree(char)\n",
    "    os.mkdir(char)"
   ]
  },
  {
   "cell_type": "code",
   "execution_count": 7,
   "metadata": {},
   "outputs": [],
   "source": [
    "def lr_schedule(epoch):\n",
    "    return learning_rate * (0.1 ** int(epoch / 10))\n",
    "    \n",
    "best_model_address = os.path.join(char, 'best_model.h5')"
   ]
  },
  {
   "cell_type": "code",
   "execution_count": 8,
   "metadata": {},
   "outputs": [
    {
     "name": "stdout",
     "output_type": "stream",
     "text": [
      "WARNING:tensorflow:`period` argument is deprecated. Please use `save_freq` to specify the frequency in number of batches seen.\n"
     ]
    }
   ],
   "source": [
    "callback = [keras.callbacks.LearningRateScheduler(lr_schedule, verbose = 1),\n",
    "            keras.callbacks.EarlyStopping(monitor = 'loss', min_delta = 0.001, patience = 3, verbose=1, mode = 'min', restore_best_weights = True),\n",
    "            keras.callbacks.ModelCheckpoint(best_model_address, monitor = 'loss', verbose=1, save_best_only=True, save_weights_only=False, mode = 'min' , period=1)]"
   ]
  },
  {
   "cell_type": "code",
   "execution_count": 9,
   "metadata": {},
   "outputs": [],
   "source": [
    "def Custom_Model():\n",
    "    print(\"\\nTRAINING ON A COMPLEX CUSTOM MODEL:-\")\n",
    "    \n",
    "    model = keras.models.Sequential()\n",
    "    for l in range(layer):\n",
    "        l += 1\n",
    "        m = (2**l)//2\n",
    "        for c in range(conv_layer):\n",
    "            model.add(Conv2D(conv*m, (conv_size, conv_size), padding = 'same', input_shape = (32,32,3), activation = activation))\n",
    "        model.add(MaxPooling2D(pool_size = (2, 2)))\n",
    "    model.add(Flatten())\n",
    "    model.add(Dense(dense, activation=activation))\n",
    "#     model.add(Dropout(dropout))\n",
    "    model.add(Dense(output_layer, activation=output_activation))\n",
    "    return model"
   ]
  },
  {
   "cell_type": "code",
   "execution_count": 10,
   "metadata": {},
   "outputs": [],
   "source": [
    "output_activation = 'softmax'\n",
    "losses = 'categorical_crossentropy'\n",
    "class_mode = 'categorical'\n",
    "output_layer = 59"
   ]
  },
  {
   "cell_type": "code",
   "execution_count": 11,
   "metadata": {},
   "outputs": [],
   "source": [
    "optimizer = keras.optimizers.Adam(learning_rate = learning_rate, beta_1 = 0.9, beta_2 = 0.999, amsgrad = False)\n",
    "# optimizer = keras.optimizers.RMSprop(learning_rate, rho = 0.9)\n",
    "# optimizer = keras.optimizers.SGD(lr = learning_rate, decay = 1e-6, momentum = 0.9, nesterov = True)\n",
    "# optimizer = keras.optimizers.Adagrad(learning_rate)"
   ]
  },
  {
   "cell_type": "code",
   "execution_count": 12,
   "metadata": {},
   "outputs": [
    {
     "name": "stdout",
     "output_type": "stream",
     "text": [
      "Found 62187 images belonging to 59 classes.\n",
      "Found 20713 images belonging to 59 classes.\n",
      "Found 20713 images belonging to 59 classes.\n"
     ]
    }
   ],
   "source": [
    "train_datagen = datagen\n",
    "train_generator = train_datagen.flow_from_directory(TRAINING_DIR,\n",
    "                                                    batch_size = batch_size,\n",
    "                                                    class_mode = class_mode,\n",
    "                                                    target_size = (32,32),\n",
    "                                                    shuffle=True)\n",
    "\n",
    "validation_datagen = ImageDataGenerator(rescale=1.0/255.)\n",
    "validation_generator = validation_datagen.flow_from_directory(VALIDATION_DIR,\n",
    "                                                              batch_size = batch_size,\n",
    "                                                              class_mode = class_mode,\n",
    "                                                              target_size = (32,32),\n",
    "                                                              shuffle=True)\n",
    "\n",
    "test_datagen = ImageDataGenerator(rescale=1.0/255.)\n",
    "test_generator = test_datagen.flow_from_directory(TESTING_DIR,\n",
    "                                                  batch_size = batch_size,\n",
    "                                                  class_mode = class_mode,\n",
    "                                                  target_size = (32,32),\n",
    "                                                  shuffle=True)"
   ]
  },
  {
   "cell_type": "code",
   "execution_count": 13,
   "metadata": {},
   "outputs": [],
   "source": [
    "dense = 128\n",
    "activation = 'relu'\n",
    "dropout = 20\n",
    "dropout = dropout/100\n",
    "\n",
    "layer = 4\n",
    "conv_layer = 1\n",
    "conv = 16\n",
    "conv_size = 3"
   ]
  },
  {
   "cell_type": "code",
   "execution_count": 14,
   "metadata": {},
   "outputs": [
    {
     "name": "stdout",
     "output_type": "stream",
     "text": [
      "\n",
      "TRAINING ON A COMPLEX CUSTOM MODEL:-\n",
      "Model: \"sequential\"\n",
      "_________________________________________________________________\n",
      "Layer (type)                 Output Shape              Param #   \n",
      "=================================================================\n",
      "conv2d (Conv2D)              (None, 32, 32, 16)        448       \n",
      "_________________________________________________________________\n",
      "max_pooling2d (MaxPooling2D) (None, 16, 16, 16)        0         \n",
      "_________________________________________________________________\n",
      "conv2d_1 (Conv2D)            (None, 16, 16, 32)        4640      \n",
      "_________________________________________________________________\n",
      "max_pooling2d_1 (MaxPooling2 (None, 8, 8, 32)          0         \n",
      "_________________________________________________________________\n",
      "conv2d_2 (Conv2D)            (None, 8, 8, 64)          18496     \n",
      "_________________________________________________________________\n",
      "max_pooling2d_2 (MaxPooling2 (None, 4, 4, 64)          0         \n",
      "_________________________________________________________________\n",
      "conv2d_3 (Conv2D)            (None, 4, 4, 128)         73856     \n",
      "_________________________________________________________________\n",
      "max_pooling2d_3 (MaxPooling2 (None, 2, 2, 128)         0         \n",
      "_________________________________________________________________\n",
      "flatten (Flatten)            (None, 512)               0         \n",
      "_________________________________________________________________\n",
      "dense (Dense)                (None, 128)               65664     \n",
      "_________________________________________________________________\n",
      "dense_1 (Dense)              (None, 59)                7611      \n",
      "=================================================================\n",
      "Total params: 170,715\n",
      "Trainable params: 170,715\n",
      "Non-trainable params: 0\n",
      "_________________________________________________________________\n"
     ]
    }
   ],
   "source": [
    "model = Custom_Model()\n",
    "model.compile(optimizer = optimizer, loss = losses, metrics = ['accuracy', \n",
    "                                                               tf.keras.metrics.Precision(), \n",
    "                                                               tf.keras.metrics.Recall(), \n",
    "                                                               tf.keras.metrics.TruePositives(), \n",
    "                                                               tf.keras.metrics.TrueNegatives(), \n",
    "                                                               tf.keras.metrics.FalsePositives(),\n",
    "                                                               tf.keras.metrics.FalseNegatives()])\n",
    "\n",
    "\n",
    "model.summary()"
   ]
  },
  {
   "cell_type": "code",
   "execution_count": 15,
   "metadata": {},
   "outputs": [
    {
     "name": "stdout",
     "output_type": "stream",
     "text": [
      "WARNING:tensorflow:From <ipython-input-15-5dbc17a6b3a7>:3: Model.fit_generator (from tensorflow.python.keras.engine.training) is deprecated and will be removed in a future version.\n",
      "Instructions for updating:\n",
      "Please use Model.fit, which supports generators.\n",
      "\n",
      "Epoch 00001: LearningRateScheduler reducing learning rate to 0.001.\n",
      "Epoch 1/100\n",
      "972/972 [==============================] - ETA: 0s - loss: 0.9175 - accuracy: 0.7120 - precision: 0.8640 - recall: 0.6316 - true_positives: 39275.0000 - true_negatives: 3600664.0000 - false_positives: 6182.0000 - false_negatives: 22912.0000\n",
      "Epoch 00001: loss improved from inf to 0.91745, saving model to /home/rajarshi/Documents/DATASETS/Others/ISL/FINAL/CUSTOM_64/best_model.h5\n",
      "972/972 [==============================] - 53s 54ms/step - loss: 0.9175 - accuracy: 0.7120 - precision: 0.8640 - recall: 0.6316 - true_positives: 39275.0000 - true_negatives: 3600664.0000 - false_positives: 6182.0000 - false_negatives: 22912.0000 - val_loss: 0.1313 - val_accuracy: 0.9563 - val_precision: 0.9631 - val_recall: 0.9467 - val_true_positives: 19610.0000 - val_true_negatives: 1200603.0000 - val_false_positives: 751.0000 - val_false_negatives: 1103.0000\n",
      "\n",
      "Epoch 00002: LearningRateScheduler reducing learning rate to 0.001.\n",
      "Epoch 2/100\n",
      "972/972 [==============================] - ETA: 0s - loss: 0.2065 - accuracy: 0.9300 - precision: 0.9420 - recall: 0.9191 - true_positives: 57153.0000 - true_negatives: 3603330.0000 - false_positives: 3516.0000 - false_negatives: 5034.0000\n",
      "Epoch 00002: loss improved from 0.91745 to 0.20648, saving model to /home/rajarshi/Documents/DATASETS/Others/ISL/FINAL/CUSTOM_64/best_model.h5\n",
      "972/972 [==============================] - 47s 48ms/step - loss: 0.2065 - accuracy: 0.9300 - precision: 0.9420 - recall: 0.9191 - true_positives: 57153.0000 - true_negatives: 3603330.0000 - false_positives: 3516.0000 - false_negatives: 5034.0000 - val_loss: 0.0243 - val_accuracy: 0.9933 - val_precision: 0.9943 - val_recall: 0.9926 - val_true_positives: 20560.0000 - val_true_negatives: 1201236.0000 - val_false_positives: 118.0000 - val_false_negatives: 153.0000\n",
      "\n",
      "Epoch 00003: LearningRateScheduler reducing learning rate to 0.001.\n",
      "Epoch 3/100\n",
      "972/972 [==============================] - ETA: 0s - loss: 0.1223 - accuracy: 0.9590 - precision: 0.9649 - recall: 0.9548 - true_positives: 59377.0000 - true_negatives: 3604688.0000 - false_positives: 2158.0000 - false_negatives: 2810.0000\n",
      "Epoch 00003: loss improved from 0.20648 to 0.12234, saving model to /home/rajarshi/Documents/DATASETS/Others/ISL/FINAL/CUSTOM_64/best_model.h5\n",
      "972/972 [==============================] - 48s 50ms/step - loss: 0.1223 - accuracy: 0.9590 - precision: 0.9649 - recall: 0.9548 - true_positives: 59377.0000 - true_negatives: 3604688.0000 - false_positives: 2158.0000 - false_negatives: 2810.0000 - val_loss: 0.0377 - val_accuracy: 0.9875 - val_precision: 0.9883 - val_recall: 0.9864 - val_true_positives: 20432.0000 - val_true_negatives: 1201112.0000 - val_false_positives: 242.0000 - val_false_negatives: 281.0000\n",
      "\n",
      "Epoch 00004: LearningRateScheduler reducing learning rate to 0.001.\n",
      "Epoch 4/100\n",
      "971/972 [============================>.] - ETA: 0s - loss: 0.0921 - accuracy: 0.9683 - precision: 0.9720 - recall: 0.9653 - true_positives: 59968.0000 - true_negatives: 3601409.0000 - false_positives: 1725.0000 - false_negatives: 2155.0000\n",
      "Epoch 00004: loss improved from 0.12234 to 0.09199, saving model to /home/rajarshi/Documents/DATASETS/Others/ISL/FINAL/CUSTOM_64/best_model.h5\n",
      "972/972 [==============================] - 50s 52ms/step - loss: 0.0920 - accuracy: 0.9683 - precision: 0.9721 - recall: 0.9653 - true_positives: 60031.0000 - true_negatives: 3605120.0000 - false_positives: 1726.0000 - false_negatives: 2156.0000 - val_loss: 0.0514 - val_accuracy: 0.9819 - val_precision: 0.9821 - val_recall: 0.9816 - val_true_positives: 20331.0000 - val_true_negatives: 1200984.0000 - val_false_positives: 370.0000 - val_false_negatives: 382.0000\n",
      "\n",
      "Epoch 00005: LearningRateScheduler reducing learning rate to 0.001.\n",
      "Epoch 5/100\n",
      "971/972 [============================>.] - ETA: 0s - loss: 0.0777 - accuracy: 0.9738 - precision: 0.9761 - recall: 0.9719 - true_positives: 60380.0000 - true_negatives: 3601657.0000 - false_positives: 1477.0000 - false_negatives: 1743.0000\n",
      "Epoch 00005: loss improved from 0.09199 to 0.07772, saving model to /home/rajarshi/Documents/DATASETS/Others/ISL/FINAL/CUSTOM_64/best_model.h5\n",
      "972/972 [==============================] - 50s 51ms/step - loss: 0.0777 - accuracy: 0.9738 - precision: 0.9761 - recall: 0.9719 - true_positives: 60441.0000 - true_negatives: 3605367.0000 - false_positives: 1479.0000 - false_negatives: 1746.0000 - val_loss: 0.0275 - val_accuracy: 0.9920 - val_precision: 0.9923 - val_recall: 0.9917 - val_true_positives: 20541.0000 - val_true_negatives: 1201195.0000 - val_false_positives: 159.0000 - val_false_negatives: 172.0000\n",
      "\n",
      "Epoch 00006: LearningRateScheduler reducing learning rate to 0.001.\n",
      "Epoch 6/100\n",
      "971/972 [============================>.] - ETA: 0s - loss: 0.0651 - accuracy: 0.9785 - precision: 0.9806 - recall: 0.9768 - true_positives: 60680.0000 - true_negatives: 3601932.0000 - false_positives: 1202.0000 - false_negatives: 1443.0000\n",
      "Epoch 00006: loss improved from 0.07772 to 0.06510, saving model to /home/rajarshi/Documents/DATASETS/Others/ISL/FINAL/CUSTOM_64/best_model.h5\n",
      "972/972 [==============================] - 57s 59ms/step - loss: 0.0651 - accuracy: 0.9785 - precision: 0.9805 - recall: 0.9767 - true_positives: 60740.0000 - true_negatives: 3605640.0000 - false_positives: 1206.0000 - false_negatives: 1447.0000 - val_loss: 0.0219 - val_accuracy: 0.9933 - val_precision: 0.9936 - val_recall: 0.9931 - val_true_positives: 20570.0000 - val_true_negatives: 1201221.0000 - val_false_positives: 133.0000 - val_false_negatives: 143.0000\n",
      "\n",
      "Epoch 00007: LearningRateScheduler reducing learning rate to 0.001.\n",
      "Epoch 7/100\n",
      "972/972 [==============================] - ETA: 0s - loss: 0.0550 - accuracy: 0.9818 - precision: 0.9832 - recall: 0.9803 - true_positives: 60963.0000 - true_negatives: 3605807.0000 - false_positives: 1039.0000 - false_negatives: 1224.0000\n",
      "Epoch 00007: loss improved from 0.06510 to 0.05497, saving model to /home/rajarshi/Documents/DATASETS/Others/ISL/FINAL/CUSTOM_64/best_model.h5\n",
      "972/972 [==============================] - 57s 59ms/step - loss: 0.0550 - accuracy: 0.9818 - precision: 0.9832 - recall: 0.9803 - true_positives: 60963.0000 - true_negatives: 3605807.0000 - false_positives: 1039.0000 - false_negatives: 1224.0000 - val_loss: 0.0371 - val_accuracy: 0.9876 - val_precision: 0.9877 - val_recall: 0.9875 - val_true_positives: 20455.0000 - val_true_negatives: 1201100.0000 - val_false_positives: 254.0000 - val_false_negatives: 258.0000\n",
      "\n",
      "Epoch 00008: LearningRateScheduler reducing learning rate to 0.001.\n",
      "Epoch 8/100\n",
      "972/972 [==============================] - ETA: 0s - loss: 0.0516 - accuracy: 0.9825 - precision: 0.9838 - recall: 0.9816 - true_positives: 61041.0000 - true_negatives: 3605841.0000 - false_positives: 1005.0000 - false_negatives: 1146.0000\n",
      "Epoch 00008: loss improved from 0.05497 to 0.05160, saving model to /home/rajarshi/Documents/DATASETS/Others/ISL/FINAL/CUSTOM_64/best_model.h5\n",
      "972/972 [==============================] - 57s 58ms/step - loss: 0.0516 - accuracy: 0.9825 - precision: 0.9838 - recall: 0.9816 - true_positives: 61041.0000 - true_negatives: 3605841.0000 - false_positives: 1005.0000 - false_negatives: 1146.0000 - val_loss: 0.0106 - val_accuracy: 0.9958 - val_precision: 0.9960 - val_recall: 0.9957 - val_true_positives: 20624.0000 - val_true_negatives: 1201271.0000 - val_false_positives: 83.0000 - val_false_negatives: 89.0000\n",
      "\n",
      "Epoch 00009: LearningRateScheduler reducing learning rate to 0.001.\n",
      "Epoch 9/100\n",
      "972/972 [==============================] - ETA: 0s - loss: 0.0429 - accuracy: 0.9859 - precision: 0.9869 - recall: 0.9848 - true_positives: 61244.0000 - true_negatives: 3606031.0000 - false_positives: 815.0000 - false_negatives: 943.0000\n",
      "Epoch 00009: loss improved from 0.05160 to 0.04290, saving model to /home/rajarshi/Documents/DATASETS/Others/ISL/FINAL/CUSTOM_64/best_model.h5\n",
      "972/972 [==============================] - 56s 58ms/step - loss: 0.0429 - accuracy: 0.9859 - precision: 0.9869 - recall: 0.9848 - true_positives: 61244.0000 - true_negatives: 3606031.0000 - false_positives: 815.0000 - false_negatives: 943.0000 - val_loss: 0.0068 - val_accuracy: 0.9979 - val_precision: 0.9980 - val_recall: 0.9979 - val_true_positives: 20669.0000 - val_true_negatives: 1201312.0000 - val_false_positives: 42.0000 - val_false_negatives: 44.0000\n"
     ]
    },
    {
     "name": "stdout",
     "output_type": "stream",
     "text": [
      "\n",
      "Epoch 00010: LearningRateScheduler reducing learning rate to 0.001.\n",
      "Epoch 10/100\n",
      "971/972 [============================>.] - ETA: 0s - loss: 0.0425 - accuracy: 0.9861 - precision: 0.9871 - recall: 0.9851 - true_positives: 61199.0000 - true_negatives: 3602335.0000 - false_positives: 799.0000 - false_negatives: 924.0000  ETA: 10s - loss: 0.0432 - accuracy: 0.9860 - pre\n",
      "Epoch 00010: loss improved from 0.04290 to 0.04247, saving model to /home/rajarshi/Documents/DATASETS/Others/ISL/FINAL/CUSTOM_64/best_model.h5\n",
      "972/972 [==============================] - 57s 59ms/step - loss: 0.0425 - accuracy: 0.9861 - precision: 0.9871 - recall: 0.9851 - true_positives: 61263.0000 - true_negatives: 3606047.0000 - false_positives: 799.0000 - false_negatives: 924.0000 - val_loss: 0.0159 - val_accuracy: 0.9946 - val_precision: 0.9948 - val_recall: 0.9946 - val_true_positives: 20601.0000 - val_true_negatives: 1201246.0000 - val_false_positives: 108.0000 - val_false_negatives: 112.0000\n",
      "\n",
      "Epoch 00011: LearningRateScheduler reducing learning rate to 0.0001.\n",
      "Epoch 11/100\n",
      "972/972 [==============================] - ETA: 0s - loss: 0.0166 - accuracy: 0.9944 - precision: 0.9949 - recall: 0.9941 - true_positives: 61822.0000 - true_negatives: 3606527.0000 - false_positives: 319.0000 - false_negatives: 365.0000\n",
      "Epoch 00011: loss improved from 0.04247 to 0.01660, saving model to /home/rajarshi/Documents/DATASETS/Others/ISL/FINAL/CUSTOM_64/best_model.h5\n",
      "972/972 [==============================] - 56s 58ms/step - loss: 0.0166 - accuracy: 0.9944 - precision: 0.9949 - recall: 0.9941 - true_positives: 61822.0000 - true_negatives: 3606527.0000 - false_positives: 319.0000 - false_negatives: 365.0000 - val_loss: 0.0030 - val_accuracy: 0.9992 - val_precision: 0.9992 - val_recall: 0.9992 - val_true_positives: 20697.0000 - val_true_negatives: 1201338.0000 - val_false_positives: 16.0000 - val_false_negatives: 16.0000\n",
      "\n",
      "Epoch 00012: LearningRateScheduler reducing learning rate to 0.0001.\n",
      "Epoch 12/100\n",
      "972/972 [==============================] - ETA: 0s - loss: 0.0117 - accuracy: 0.9960 - precision: 0.9963 - recall: 0.9958 - true_positives: 61927.0000 - true_negatives: 3606615.0000 - false_positives: 231.0000 - false_negatives: 260.0000\n",
      "Epoch 00012: loss improved from 0.01660 to 0.01170, saving model to /home/rajarshi/Documents/DATASETS/Others/ISL/FINAL/CUSTOM_64/best_model.h5\n",
      "972/972 [==============================] - 57s 59ms/step - loss: 0.0117 - accuracy: 0.9960 - precision: 0.9963 - recall: 0.9958 - true_positives: 61927.0000 - true_negatives: 3606615.0000 - false_positives: 231.0000 - false_negatives: 260.0000 - val_loss: 0.0018 - val_accuracy: 0.9995 - val_precision: 0.9995 - val_recall: 0.9995 - val_true_positives: 20703.0000 - val_true_negatives: 1201344.0000 - val_false_positives: 10.0000 - val_false_negatives: 10.0000\n",
      "\n",
      "Epoch 00013: LearningRateScheduler reducing learning rate to 0.0001.\n",
      "Epoch 13/100\n",
      "972/972 [==============================] - ETA: 0s - loss: 0.0101 - accuracy: 0.9967 - precision: 0.9968 - recall: 0.9965 - true_positives: 61971.0000 - true_negatives: 3606650.0000 - false_positives: 196.0000 - false_negatives: 216.0000\n",
      "Epoch 00013: loss improved from 0.01170 to 0.01010, saving model to /home/rajarshi/Documents/DATASETS/Others/ISL/FINAL/CUSTOM_64/best_model.h5\n",
      "972/972 [==============================] - 55s 56ms/step - loss: 0.0101 - accuracy: 0.9967 - precision: 0.9968 - recall: 0.9965 - true_positives: 61971.0000 - true_negatives: 3606650.0000 - false_positives: 196.0000 - false_negatives: 216.0000 - val_loss: 0.0019 - val_accuracy: 0.9993 - val_precision: 0.9994 - val_recall: 0.9993 - val_true_positives: 20699.0000 - val_true_negatives: 1201341.0000 - val_false_positives: 13.0000 - val_false_negatives: 14.0000\n",
      "\n",
      "Epoch 00014: LearningRateScheduler reducing learning rate to 0.0001.\n",
      "Epoch 14/100\n",
      "971/972 [============================>.] - ETA: 0s - loss: 0.0088 - accuracy: 0.9970 - precision: 0.9971 - recall: 0.9969 - true_positives: 61929.0000 - true_negatives: 3602956.0000 - false_positives: 178.0000 - false_negatives: 194.0000\n",
      "Epoch 00014: loss improved from 0.01010 to 0.00881, saving model to /home/rajarshi/Documents/DATASETS/Others/ISL/FINAL/CUSTOM_64/best_model.h5\n",
      "972/972 [==============================] - 59s 61ms/step - loss: 0.0088 - accuracy: 0.9970 - precision: 0.9971 - recall: 0.9969 - true_positives: 61993.0000 - true_negatives: 3606668.0000 - false_positives: 178.0000 - false_negatives: 194.0000 - val_loss: 0.0020 - val_accuracy: 0.9994 - val_precision: 0.9994 - val_recall: 0.9994 - val_true_positives: 20700.0000 - val_true_negatives: 1201341.0000 - val_false_positives: 13.0000 - val_false_negatives: 13.0000\n",
      "\n",
      "Epoch 00015: LearningRateScheduler reducing learning rate to 0.0001.\n",
      "Epoch 15/100\n",
      "972/972 [==============================] - ETA: 0s - loss: 0.0089 - accuracy: 0.9972 - precision: 0.9974 - recall: 0.9971 - true_positives: 62005.0000 - true_negatives: 3606686.0000 - false_positives: 160.0000 - false_negatives: 182.0000\n",
      "Epoch 00015: loss did not improve from 0.00881\n",
      "972/972 [==============================] - 58s 60ms/step - loss: 0.0089 - accuracy: 0.9972 - precision: 0.9974 - recall: 0.9971 - true_positives: 62005.0000 - true_negatives: 3606686.0000 - false_positives: 160.0000 - false_negatives: 182.0000 - val_loss: 0.0010 - val_accuracy: 0.9996 - val_precision: 0.9997 - val_recall: 0.9996 - val_true_positives: 20705.0000 - val_true_negatives: 1201347.0000 - val_false_positives: 7.0000 - val_false_negatives: 8.0000\n",
      "\n",
      "Epoch 00016: LearningRateScheduler reducing learning rate to 0.0001.\n",
      "Epoch 16/100\n",
      "972/972 [==============================] - ETA: 0s - loss: 0.0082 - accuracy: 0.9972 - precision: 0.9974 - recall: 0.9971 - true_positives: 62005.0000 - true_negatives: 3606684.0000 - false_positives: 162.0000 - false_negatives: 182.0000\n",
      "Epoch 00016: loss improved from 0.00881 to 0.00816, saving model to /home/rajarshi/Documents/DATASETS/Others/ISL/FINAL/CUSTOM_64/best_model.h5\n",
      "972/972 [==============================] - 57s 59ms/step - loss: 0.0082 - accuracy: 0.9972 - precision: 0.9974 - recall: 0.9971 - true_positives: 62005.0000 - true_negatives: 3606684.0000 - false_positives: 162.0000 - false_negatives: 182.0000 - val_loss: 8.0338e-04 - val_accuracy: 0.9998 - val_precision: 0.9998 - val_recall: 0.9998 - val_true_positives: 20709.0000 - val_true_negatives: 1201350.0000 - val_false_positives: 4.0000 - val_false_negatives: 4.0000\n",
      "\n",
      "Epoch 00017: LearningRateScheduler reducing learning rate to 0.0001.\n",
      "Epoch 17/100\n",
      "972/972 [==============================] - ETA: 0s - loss: 0.0074 - accuracy: 0.9975 - precision: 0.9977 - recall: 0.9975 - true_positives: 62029.0000 - true_negatives: 3606703.0000 - false_positives: 143.0000 - false_negatives: 158.0000\n",
      "Epoch 00017: loss improved from 0.00816 to 0.00744, saving model to /home/rajarshi/Documents/DATASETS/Others/ISL/FINAL/CUSTOM_64/best_model.h5\n",
      "972/972 [==============================] - 56s 58ms/step - loss: 0.0074 - accuracy: 0.9975 - precision: 0.9977 - recall: 0.9975 - true_positives: 62029.0000 - true_negatives: 3606703.0000 - false_positives: 143.0000 - false_negatives: 158.0000 - val_loss: 0.0010 - val_accuracy: 0.9996 - val_precision: 0.9996 - val_recall: 0.9996 - val_true_positives: 20705.0000 - val_true_negatives: 1201346.0000 - val_false_positives: 8.0000 - val_false_negatives: 8.0000\n",
      "\n",
      "Epoch 00018: LearningRateScheduler reducing learning rate to 0.0001.\n",
      "Epoch 18/100\n",
      "972/972 [==============================] - ETA: 0s - loss: 0.0072 - accuracy: 0.9976 - precision: 0.9977 - recall: 0.9975 - true_positives: 62033.0000 - true_negatives: 3606703.0000 - false_positives: 143.0000 - false_negatives: 154.0000\n",
      "Epoch 00018: loss improved from 0.00744 to 0.00720, saving model to /home/rajarshi/Documents/DATASETS/Others/ISL/FINAL/CUSTOM_64/best_model.h5\n",
      "972/972 [==============================] - 57s 59ms/step - loss: 0.0072 - accuracy: 0.9976 - precision: 0.9977 - recall: 0.9975 - true_positives: 62033.0000 - true_negatives: 3606703.0000 - false_positives: 143.0000 - false_negatives: 154.0000 - val_loss: 0.0020 - val_accuracy: 0.9992 - val_precision: 0.9993 - val_recall: 0.9992 - val_true_positives: 20697.0000 - val_true_negatives: 1201339.0000 - val_false_positives: 15.0000 - val_false_negatives: 16.0000\n"
     ]
    },
    {
     "name": "stdout",
     "output_type": "stream",
     "text": [
      "\n",
      "Epoch 00019: LearningRateScheduler reducing learning rate to 0.0001.\n",
      "Epoch 19/100\n",
      "972/972 [==============================] - ETA: 0s - loss: 0.0068 - accuracy: 0.9979 - precision: 0.9980 - recall: 0.9978 - true_positives: 62049.0000 - true_negatives: 3606719.0000 - false_positives: 127.0000 - false_negatives: 138.0000\n",
      "Epoch 00019: loss improved from 0.00720 to 0.00680, saving model to /home/rajarshi/Documents/DATASETS/Others/ISL/FINAL/CUSTOM_64/best_model.h5\n",
      "972/972 [==============================] - 59s 60ms/step - loss: 0.0068 - accuracy: 0.9979 - precision: 0.9980 - recall: 0.9978 - true_positives: 62049.0000 - true_negatives: 3606719.0000 - false_positives: 127.0000 - false_negatives: 138.0000 - val_loss: 0.0010 - val_accuracy: 0.9996 - val_precision: 0.9996 - val_recall: 0.9996 - val_true_positives: 20705.0000 - val_true_negatives: 1201346.0000 - val_false_positives: 8.0000 - val_false_negatives: 8.0000\n",
      "\n",
      "Epoch 00020: LearningRateScheduler reducing learning rate to 0.0001.\n",
      "Epoch 20/100\n",
      "972/972 [==============================] - ETA: 0s - loss: 0.0077 - accuracy: 0.9976 - precision: 0.9978 - recall: 0.9975 - true_positives: 62033.0000 - true_negatives: 3606712.0000 - false_positives: 134.0000 - false_negatives: 154.0000Restoring model weights from the end of the best epoch.\n",
      "\n",
      "Epoch 00020: loss did not improve from 0.00680\n",
      "972/972 [==============================] - 56s 58ms/step - loss: 0.0077 - accuracy: 0.9976 - precision: 0.9978 - recall: 0.9975 - true_positives: 62033.0000 - true_negatives: 3606712.0000 - false_positives: 134.0000 - false_negatives: 154.0000 - val_loss: 0.0017 - val_accuracy: 0.9994 - val_precision: 0.9994 - val_recall: 0.9994 - val_true_positives: 20701.0000 - val_true_negatives: 1201342.0000 - val_false_positives: 12.0000 - val_false_negatives: 12.0000\n",
      "Epoch 00020: early stopping\n",
      "972/972 [==============================] - 50s 51ms/step - loss: 0.0076 - accuracy: 0.9973 - precision: 0.9974 - recall: 0.9972 - true_positives: 62010.0000 - true_negatives: 3606687.0000 - false_positives: 159.0000 - false_negatives: 177.0000\n",
      "324/324 [==============================] - 6s 17ms/step - loss: 0.0010 - accuracy: 0.9996 - precision: 0.9996 - recall: 0.9996 - true_positives: 20705.0000 - true_negatives: 1201346.0000 - false_positives: 8.0000 - false_negatives: 8.0000\n",
      "324/324 [==============================] - 5s 16ms/step - loss: 0.0017 - accuracy: 0.9994 - precision: 0.9994 - recall: 0.9994 - true_positives: 20700.0000 - true_negatives: 1201341.0000 - false_positives: 13.0000 - false_negatives: 13.0000\n"
     ]
    }
   ],
   "source": [
    "with tf.device(\"/GPU:0\"):\n",
    "    start = time.time()\n",
    "    history = model.fit_generator(train_generator,\n",
    "                                        epochs = epoch,\n",
    "                                        verbose = 1,\n",
    "                                        callbacks = callback,\n",
    "                                        validation_data = validation_generator,\n",
    "                                        shuffle=True)\n",
    "\n",
    "    end = time.time()\n",
    "    duration = end-start\n",
    "\n",
    "train_score = model.evaluate(train_generator)\n",
    "val_score = model.evaluate(validation_generator)\n",
    "test_score = model.evaluate(test_generator)"
   ]
  },
  {
   "cell_type": "code",
   "execution_count": 16,
   "metadata": {},
   "outputs": [
    {
     "name": "stdout",
     "output_type": "stream",
     "text": [
      "Execution Time: 1109.445072889328 seconds\n"
     ]
    }
   ],
   "source": [
    "print(\"Execution Time: {} seconds\".format(duration))"
   ]
  },
  {
   "cell_type": "code",
   "execution_count": 17,
   "metadata": {},
   "outputs": [
    {
     "name": "stderr",
     "output_type": "stream",
     "text": [
      "The PostScript backend does not support transparency; partially transparent artists will be rendered opaque.\n",
      "The PostScript backend does not support transparency; partially transparent artists will be rendered opaque.\n"
     ]
    },
    {
     "data": {
      "image/png": "[encoded data removed]",
      "text/plain": [
       "<Figure size 432x288 with 1 Axes>"
      ]
     },
     "metadata": {
      "needs_background": "light"
     },
     "output_type": "display_data"
    },
    {
     "name": "stderr",
     "output_type": "stream",
     "text": [
      "The PostScript backend does not support transparency; partially transparent artists will be rendered opaque.\n",
      "The PostScript backend does not support transparency; partially transparent artists will be rendered opaque.\n"
     ]
    },
    {
     "data": {
      "image/png": "[encoded data removed]",
      "text/plain": [
       "<Figure size 432x288 with 1 Axes>"
      ]
     },
     "metadata": {
      "needs_background": "light"
     },
     "output_type": "display_data"
    }
   ],
   "source": [
    "acc=history.history['accuracy']\n",
    "val_acc=history.history['val_accuracy']\n",
    "loss=history.history['loss']\n",
    "val_loss=history.history['val_loss']\n",
    "epochs=range(len(acc))\n",
    "\n",
    "plt.plot(epochs, acc, 'r', label='Training Accuracy')\n",
    "plt.plot(epochs, val_acc, 'b', label='Validation Accuracy')\n",
    "plt.xlabel(\"Epochs\")\n",
    "plt.ylabel(\"Accuracy\")\n",
    "plt.title('Training and validation accuracy vs Epochs')\n",
    "plt.legend()\n",
    "accuracy_fig_name = \"accuracy.eps\"\n",
    "plt.savefig(os.path.join(char, accuracy_fig_name))\n",
    "plt.show()\n",
    "\n",
    "\n",
    "plt.plot(epochs, loss, 'r', label=\"Training Loss\")\n",
    "plt.plot(epochs, val_loss, 'b', label=\"Validation Loss\")\n",
    "plt.xlabel(\"Epochs\")\n",
    "plt.ylabel(\"Loss\")\n",
    "plt.title('Training and validation loss vs Epochs')\n",
    "plt.legend()\n",
    "loss_fig_name = \"loss.eps\"\n",
    "\n",
    "plt.savefig(os.path.join(char, loss_fig_name))\n",
    "plt.show()"
   ]
  },
  {
   "cell_type": "code",
   "execution_count": 28,
   "metadata": {},
   "outputs": [
    {
     "data": {
      "text/plain": [
       "[<matplotlib.lines.Line2D at 0x7feb2ac33370>]"
      ]
     },
     "execution_count": 28,
     "metadata": {},
     "output_type": "execute_result"
    },
    {
     "data": {
      "image/png": "[encoded data removed]",
      "text/plain": [
       "<Figure size 432x288 with 1 Axes>"
      ]
     },
     "metadata": {
      "needs_background": "light"
     },
     "output_type": "display_data"
    }
   ],
   "source": [
    "plt.plot(acc)\n",
    "plt.plot(val_acc)\n",
    "plt.plot(loss)\n",
    "plt.plot(val_loss)"
   ]
  },
  {
   "cell_type": "code",
   "execution_count": 19,
   "metadata": {},
   "outputs": [
    {
     "data": {
      "text/plain": [
       "[<matplotlib.lines.Line2D at 0x7feb2a7adb20>]"
      ]
     },
     "execution_count": 19,
     "metadata": {},
     "output_type": "execute_result"
    },
    {
     "data": {
      "image/png": "[encoded data removed]",
      "text/plain": [
       "<Figure size 432x288 with 1 Axes>"
      ]
     },
     "metadata": {
      "needs_background": "light"
     },
     "output_type": "display_data"
    }
   ],
   "source": [
    "plt.plot(val_loss[:15])"
   ]
  },
  {
   "cell_type": "code",
   "execution_count": 20,
   "metadata": {},
   "outputs": [
    {
     "name": "stdout",
     "output_type": "stream",
     "text": [
      "The training accuracy is: 99.72823858261108 %\n",
      "The validation accuracy is: 99.96137619018555 %\n",
      "The test accuracy is: 99.93723630905151 %\n"
     ]
    }
   ],
   "source": [
    "training_accuracy = train_score[1]*100\n",
    "validation_accuracy = val_score[1]*100\n",
    "test_accuracy = test_score[1]*100\n",
    "\n",
    "print(\"The training accuracy is: \" + str(training_accuracy) + ' %')\n",
    "print(\"The validation accuracy is: \" + str(validation_accuracy) + ' %')\n",
    "print(\"The test accuracy is: \" + str(test_accuracy) + ' %')"
   ]
  },
  {
   "cell_type": "code",
   "execution_count": 21,
   "metadata": {},
   "outputs": [],
   "source": [
    "test_accuracy = test_score[1]*100\n",
    "test_precision = test_score[2]*100\n",
    "test_recall = test_score[3]*100\n",
    "tp = int(test_score[4])\n",
    "tn = int(test_score[5])\n",
    "fp = int(test_score[6])\n",
    "fn = int(test_score[7])\n",
    "\n",
    "f1 = 2*((test_precision*test_recall)/(test_precision+test_recall))\n",
    "sensitivity = (tp/(tp+fn))*100\n",
    "specificity = (tn/(tn+fp))*100"
   ]
  },
  {
   "cell_type": "code",
   "execution_count": 22,
   "metadata": {},
   "outputs": [
    {
     "name": "stdout",
     "output_type": "stream",
     "text": [
      "Test Accuracy: 99.93723630905151\n",
      "Test Precision: 99.93723630905151\n",
      "Test Recall: 99.93723630905151\n",
      "True Positive: 20700\n",
      "Test Negetive: 1201341\n",
      "False Positive: 13\n",
      "False Negetive: 13\n",
      "Sensitivity: 99.93723748370589\n",
      "Specificity: 99.9989178876501\n"
     ]
    }
   ],
   "source": [
    "print(\"Test Accuracy: {}\".format(test_accuracy))\n",
    "print(\"Test Precision: {}\".format(test_precision))\n",
    "print(\"Test Recall: {}\".format(test_recall))\n",
    "print(\"True Positive: {}\".format(tp))\n",
    "print(\"Test Negetive: {}\".format(tn))\n",
    "print(\"False Positive: {}\".format(fp))\n",
    "print(\"False Negetive: {}\".format(fn))\n",
    "print(\"Sensitivity: {}\".format(sensitivity))\n",
    "print(\"Specificity: {}\".format(specificity))"
   ]
  },
  {
   "cell_type": "code",
   "execution_count": 23,
   "metadata": {},
   "outputs": [],
   "source": [
    "test_class_list = []\n",
    "for test_name in os.listdir(TESTING_DIR):\n",
    "    test = os.path.join(TESTING_DIR,test_name)\n",
    "    test_class_list.append(test)\n",
    "test_class_list.sort()"
   ]
  },
  {
   "cell_type": "code",
   "execution_count": 24,
   "metadata": {},
   "outputs": [],
   "source": [
    "def max_pred(pred):\n",
    "    pred_categorical = keras.utils.to_categorical(pred)\n",
    "    if 59 > 2:\n",
    "        pred_max = np.argmax(pred)\n",
    "    else:\n",
    "        pred_max = np.argmax(pred_categorical)\n",
    "    return pred_max"
   ]
  },
  {
   "cell_type": "code",
   "execution_count": 25,
   "metadata": {},
   "outputs": [],
   "source": [
    "y_true = test_generator.classes\n",
    "labels = validation_generator.class_indices"
   ]
  },
  {
   "cell_type": "code",
   "execution_count": 26,
   "metadata": {},
   "outputs": [
    {
     "name": "stdout",
     "output_type": "stream",
     "text": [
      "Calculating CLASSIFICATION REPORT..........:\n",
      "              precision    recall  f1-score   support\n",
      "\n",
      "           0       1.00      1.00      1.00       300\n",
      "           1       1.00      0.94      0.97       300\n",
      "           2       0.85      0.93      0.89       300\n",
      "           3       0.99      1.00      0.99       300\n",
      "           4       0.97      0.78      0.86       300\n",
      "           5       0.75      1.00      0.86       300\n",
      "           6       1.00      0.93      0.96       300\n",
      "           7       1.00      1.00      1.00       300\n",
      "           8       1.00      1.00      1.00       300\n",
      "           9       1.00      1.00      1.00       300\n",
      "           A       0.78      1.00      0.88       300\n",
      "      ABOARD       1.00      1.00      1.00       894\n",
      "       ABOVE       1.00      1.00      1.00       429\n",
      "      ACROSS       1.00      1.00      1.00       287\n",
      "     ADVANCE       0.98      1.00      0.99       269\n",
      "      AFRAID       1.00      1.00      1.00       476\n",
      "         ALL       1.00      0.78      0.88       481\n",
      "    ALL_GONE       1.00      1.00      1.00       240\n",
      "       ALONE       1.00      0.60      0.75       357\n",
      "       ANGER       1.00      1.00      1.00       224\n",
      "       ARISE       1.00      0.74      0.85       811\n",
      "      ASCEND       1.00      0.92      0.96       619\n",
      "           B       1.00      0.94      0.97       300\n",
      "         BAG       0.98      0.92      0.95       648\n",
      "       BELOW       1.00      1.00      1.00       564\n",
      "      BESIDE       1.00      1.00      1.00       324\n",
      "       BRING       0.49      1.00      0.66       483\n",
      "           C       1.00      1.00      1.00       300\n",
      "           D       1.00      0.94      0.97       300\n",
      "       DRINK       0.99      1.00      1.00       373\n",
      "           E       0.96      1.00      0.98       300\n",
      "           F       0.78      0.98      0.87       300\n",
      "        FLAG       1.00      1.00      1.00       529\n",
      "           G       0.95      1.00      0.97       300\n",
      "           H       1.00      0.94      0.97       300\n",
      "        HANG       1.00      1.00      1.00       421\n",
      "           I       0.97      1.00      0.99       300\n",
      "           J       1.00      0.97      0.99       300\n",
      "           K       1.00      0.90      0.95       300\n",
      "           L       0.98      1.00      0.99       300\n",
      "           M       1.00      0.72      0.84       300\n",
      "       MARRY       1.00      1.00      1.00       294\n",
      "      MIDDLE       0.99      1.00      0.99       324\n",
      "        MOON       0.89      1.00      0.94       398\n",
      "           N       0.95      1.00      0.97       300\n",
      "           O       1.00      1.00      1.00       300\n",
      "           P       1.00      0.99      0.99       300\n",
      "    PRISONER       1.00      1.00      1.00       333\n",
      "           Q       1.00      1.00      1.00       300\n",
      "           R       0.98      0.99      0.99       300\n",
      "           S       1.00      1.00      1.00       300\n",
      "           T       0.98      1.00      0.99       300\n",
      "           U       1.00      0.76      0.87       300\n",
      "           V       1.00      0.97      0.98       300\n",
      "           W       0.99      0.94      0.96       300\n",
      "           X       1.00      1.00      1.00       300\n",
      "           Y       1.00      1.00      1.00       300\n",
      "         YES       0.98      1.00      0.99       135\n",
      "           Z       1.00      0.99      0.99       300\n",
      "\n",
      "    accuracy                           0.95     20713\n",
      "   macro avg       0.97      0.96      0.96     20713\n",
      "weighted avg       0.97      0.95      0.95     20713\n",
      "\n",
      "\n",
      "Calculating SENSITIVITY & SPECIFICITY..........:\n",
      "sensitivity = 1.0000\n",
      "specificity = 1.0000\n"
     ]
    }
   ],
   "source": [
    "from sklearn.metrics import classification_report\n",
    "from sklearn.metrics import confusion_matrix\n",
    "\n",
    "\n",
    "y_pred = []\n",
    "for i in range(59):\n",
    "    for filename in os.listdir(test_class_list[i]):\n",
    "        file = os.path.join(test_class_list[i], filename)\n",
    "        img = image.load_img(file, target_size=(32,32))\n",
    "        x = image.img_to_array(img)\n",
    "        x = np.expand_dims(x, axis=0)\n",
    "\n",
    "        images = np.vstack([x])\n",
    "\n",
    "        pred = model.predict(images, batch_size = batch_size)\n",
    "        pred_max = max_pred(pred)\n",
    "        \n",
    "        y_pred.append(pred_max)\n",
    " \n",
    "print(\"Calculating CLASSIFICATION REPORT..........:\")\n",
    "classification_report = classification_report(y_true, y_pred, target_names=labels)\n",
    "print(classification_report)\n",
    "\n",
    "print(\"\\nCalculating SENSITIVITY & SPECIFICITY..........:\")\n",
    "cm = confusion_matrix(y_true, y_pred)\n",
    "total = sum(sum(cm))\n",
    "sensitivity = cm[0, 0] / (cm[0, 0] + cm[0, 1])\n",
    "specificity = cm[1, 1] / (cm[1, 0] + cm[1, 1])\n",
    "\n",
    "print(\"sensitivity = {:.4f}\".format(sensitivity))\n",
    "print(\"specificity = {:.4f}\".format(specificity))"
   ]
  },
  {
   "cell_type": "code",
   "execution_count": 27,
   "metadata": {},
   "outputs": [
    {
     "name": "stdout",
     "output_type": "stream",
     "text": [
      "Please read the text file named readme.txt for detailed information of the model.\n"
     ]
    }
   ],
   "source": [
    "from contextlib import redirect_stdout\n",
    "\n",
    "readme_name_text = \"readme.txt\"\n",
    "print(\"Please read the text file named \" + readme_name_text + \" for detailed information of the model.\")\n",
    "\n",
    "completeName_txt = os.path.join(char, readme_name_text) \n",
    "\n",
    "readme = open(completeName_txt, \"w\")\n",
    "\n",
    "\n",
    "\n",
    "readme.write(\"\\n\\n\\n--MODEL-PARAMETERS--\")\n",
    "\n",
    "\n",
    "    \n",
    "readme.write(\"\\nActivation Function = relu\")\n",
    "readme.write(\"\\nDropout = \" + str(int(dropout*100)) + \"%\")\n",
    "readme.write(\"\\nActivation function of the output layer = \" + str(output_activation))\n",
    "readme.write(\"\\nCost function of the model = \" + str(losses))\n",
    "readme.write(\"\\nOptimizer = \" + str(optimizer) + \"\\n\\n\")\n",
    "\n",
    "\n",
    "readme.write(\"Trained on a Custom Prebuilt Model\\n\")\n",
    "readme.write(\"Number of Conv layer = \" + str(conv_layer))\n",
    "readme.write(\"\\nFilter size = \" + str(conv_size)+ \"*\" + str(conv_size) + \"\\n\\n\")\n",
    "with redirect_stdout(readme):\n",
    "    model.summary()\n",
    "        \n",
    "    \n",
    "readme.write(\"\\n\\n--MODEL-PERFORMANCE--\")\n",
    "readme.write(\"\\nTest Accuracy = \" + str(test_accuracy) + \" %\")\n",
    "readme.write(\"\\nTest Precision = \" + str(test_precision) + \" %\")\n",
    "readme.write(\"\\nTest Recall = \" + str(test_recall) + \" %\")\n",
    "readme.write(\"\\nTrue Positive = \" + str(tp))\n",
    "readme.write(\"\\nTrue Negetive = \" + str(tn))\n",
    "readme.write(\"\\nFalse Positive = \" + str(fp))\n",
    "readme.write(\"\\nFalse Negetive = \" + str(fn))\n",
    "readme.write(\"\\nSensitivity = \" + str(sensitivity))\n",
    "readme.write(\"\\nSpecificity = \" + str(specificity) + \" \\n\\n\\n\")\n",
    "\n",
    "\n",
    "readme.write(\"\\n\\n--MODEL-CHARACTERISTICS--\")\n",
    "readme.write(\"\\nacc = \" + str(acc))\n",
    "readme.write(\"\\n\\nval_acc = \" + str(val_acc))\n",
    "readme.write(\"\\nloss = \" + str(loss))\n",
    "readme.write(\"\\n\\nval_loss = \" + str(val_loss))\n",
    "\n",
    "\n",
    "readme.write(\"\\n\\n--Classification Report--\\n\")\n",
    "readme.write(classification_report)\n",
    "\n",
    "readme.write(\"\\nSensitivity = \" + str(int(sensitivity*100)) + \" %\")\n",
    "readme.write(\"\\nSpecificity = \" + str(int(specificity*100)) + \" %\")\n",
    "\n",
    "\n",
    "readme.write(\"\\nExecution Time: {} seconds\".format(duration))\n",
    "\n",
    "readme.write(\"\\n\\nCreated using Self-Regulated Image Classifier using Convolution Neural Network\")\n",
    "\n",
    "readme.close()"
   ]
  },
  {
   "cell_type": "code",
   "execution_count": null,
   "metadata": {},
   "outputs": [],
   "source": []
  }
 ],
 "metadata": {
  "kernelspec": {
   "display_name": "Python 3",
   "language": "python",
   "name": "python3"
  },
  "language_info": {
   "codemirror_mode": {
    "name": "ipython",
    "version": 3
   },
   "file_extension": ".py",
   "mimetype": "text/x-python",
   "name": "python",
   "nbconvert_exporter": "python",
   "pygments_lexer": "ipython3",
   "version": "3.8.5"
  }
 },
 "nbformat": 4,
 "nbformat_minor": 4
}
